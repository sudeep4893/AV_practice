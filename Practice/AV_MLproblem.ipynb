{
 "cells": [
  {
   "cell_type": "markdown",
   "metadata": {},
   "source": [
    "# AV Data Science Team Hiring Hackathon"
   ]
  },
  {
   "cell_type": "markdown",
   "metadata": {},
   "source": [
    "## 1. Problem Statement"
   ]
  },
  {
   "cell_type": "markdown",
   "metadata": {},
   "source": [
    "__Your client is a Financial Distribution company. Over the last 10 years, they have created an offline distribution channel across country. They sell Financial products to consumers by hiring agents in their network. These agents are freelancers and get commission when they make a product sale.__\n",
    "<br>\n",
    "\n",
    "\n",
    "__Overview of your client On-boarding process__\n",
    "<br>\n",
    "The Managers at your client are primarily responsible for recruiting agents. Once a manager has identified a potential applicant, the would explain the business opportunity to the agent. Once the agent provides the consent, an application is made to your client to become an agent. This date is known as application_receipt_date.\n",
    "<br>\n",
    "In the next 3 months, this potential agent has to undergo a 7 days training at the your client's branch (about Sales processes and various products) and clear a subsequent examination in order to become an agent.\n",
    "<br>\n",
    "\n",
    "\n",
    "\n",
    "__The problem - Who are the best agents?__\n",
    "<br>\n",
    "As is obvious in the above process, there is a significant investment which your cleint makes in identifying, training and recruiting these agents. However, there are a set of agents who do not bring in the expected resultant business.\n",
    "<br>\n",
    "Your client is looking for help from data scientists like you to help them provide insigths using their past recruitment data. They want to predict the target variable for each potential agent, which would help them identify the right agents to hire.\n"
   ]
  },
  {
   "cell_type": "markdown",
   "metadata": {},
   "source": [
    "### Data Description\n",
    "| Variable | Definition |\n",
    "| --- | --- |\n",
    "| ID | Unique Application ID |\n",
    "| Office_PIN | PINCODE of Your client's Offices |\n",
    "| Application_Receipt_Date | Date of Application |\n",
    "| Applicant_City_PIN | PINCODE of Applicant Address |\n",
    "| Applicant_Gender | Applicant's Gender |\n",
    "| Applicant_BirthDate | Applicant's Birthdate |\n",
    "| Applicant_Marital_Status | Applicant's Marital Status |\n",
    "| Applicant_Occupation | Applicant's Occupation |\n",
    "| Applicant_Qualification | Applicant's Educational Qualification |\n",
    "| Manager_DOJ | Manager's Date of Joining |\n",
    "| Manager_Joining_Designation | Manager's Joining Designation |\n",
    "| Manager_Current_Designation | Manager's Designation at the time of application sourcing |\n",
    "| Manager_Grade | Manager's Grade |\n",
    "| Manager_Status | Current Employment Status (Probation / Confirmation) |\n",
    "| Manager_Gender | Manager's Gender |\n",
    "| Manager_DoB | Manager's Birthdate |\n",
    "| Manager_Num_Application | No. of Applications sourced in last 3 months by the Manager |\n",
    "| Manager_Num_Coded | No. of agents recruited by the manager in last 3 months |\n",
    "| Manager_Business | Amount of business sourced by the manager in last 3 months |\n",
    "| Manager_Num_Products | Number of products sold by the manager in last 3 months |\n",
    "| Manager_Business2 | Amount of business sourced by the manager in last 3 months excluding business from their Category A advisor |\n",
    "| Manager_Num_Products2 | Number of products sold by the manager in last 3 months excluding business from their Category A advisor |\n",
    "| Business_Sourced(Target) | Business sourced by applicant within 3 months [1/0] of recruitment |\n"
   ]
  },
  {
   "cell_type": "markdown",
   "metadata": {},
   "source": [
    "## 2. EDA and model building"
   ]
  },
  {
   "cell_type": "code",
   "execution_count": 58,
   "metadata": {},
   "outputs": [],
   "source": [
    "import numpy as np\n",
    "import pandas as pd\n",
    "from sklearn.model_selection import train_test_split\n",
    "import seaborn as sns\n",
    "import matplotlib.pyplot as plt\n",
    "\n",
    "import warnings\n",
    "warnings.filterwarnings('ignore')"
   ]
  },
  {
   "cell_type": "code",
   "execution_count": 59,
   "metadata": {},
   "outputs": [
    {
     "data": {
      "text/html": [
       "<div>\n",
       "<style scoped>\n",
       "    .dataframe tbody tr th:only-of-type {\n",
       "        vertical-align: middle;\n",
       "    }\n",
       "\n",
       "    .dataframe tbody tr th {\n",
       "        vertical-align: top;\n",
       "    }\n",
       "\n",
       "    .dataframe thead th {\n",
       "        text-align: right;\n",
       "    }\n",
       "</style>\n",
       "<table border=\"1\" class=\"dataframe\">\n",
       "  <thead>\n",
       "    <tr style=\"text-align: right;\">\n",
       "      <th></th>\n",
       "      <th>ID</th>\n",
       "      <th>Office_PIN</th>\n",
       "      <th>Application_Receipt_Date</th>\n",
       "      <th>Applicant_City_PIN</th>\n",
       "      <th>Applicant_Gender</th>\n",
       "      <th>Applicant_BirthDate</th>\n",
       "      <th>Applicant_Marital_Status</th>\n",
       "      <th>Applicant_Occupation</th>\n",
       "      <th>Applicant_Qualification</th>\n",
       "      <th>Manager_DOJ</th>\n",
       "      <th>...</th>\n",
       "      <th>Manager_Status</th>\n",
       "      <th>Manager_Gender</th>\n",
       "      <th>Manager_DoB</th>\n",
       "      <th>Manager_Num_Application</th>\n",
       "      <th>Manager_Num_Coded</th>\n",
       "      <th>Manager_Business</th>\n",
       "      <th>Manager_Num_Products</th>\n",
       "      <th>Manager_Business2</th>\n",
       "      <th>Manager_Num_Products2</th>\n",
       "      <th>Business_Sourced</th>\n",
       "    </tr>\n",
       "  </thead>\n",
       "  <tbody>\n",
       "    <tr>\n",
       "      <th>0</th>\n",
       "      <td>FIN1000001</td>\n",
       "      <td>842001</td>\n",
       "      <td>4/16/2007</td>\n",
       "      <td>844120.0</td>\n",
       "      <td>M</td>\n",
       "      <td>12/19/1971</td>\n",
       "      <td>M</td>\n",
       "      <td>Others</td>\n",
       "      <td>Graduate</td>\n",
       "      <td>11-10-2005</td>\n",
       "      <td>...</td>\n",
       "      <td>Confirmation</td>\n",
       "      <td>M</td>\n",
       "      <td>2/17/1978</td>\n",
       "      <td>2.0</td>\n",
       "      <td>1.0</td>\n",
       "      <td>335249.0</td>\n",
       "      <td>28.0</td>\n",
       "      <td>335249.0</td>\n",
       "      <td>28.0</td>\n",
       "      <td>0.0</td>\n",
       "    </tr>\n",
       "    <tr>\n",
       "      <th>1</th>\n",
       "      <td>FIN1000002</td>\n",
       "      <td>842001</td>\n",
       "      <td>4/16/2007</td>\n",
       "      <td>844111.0</td>\n",
       "      <td>M</td>\n",
       "      <td>2/17/1983</td>\n",
       "      <td>S</td>\n",
       "      <td>Others</td>\n",
       "      <td>Class XII</td>\n",
       "      <td>11-10-2005</td>\n",
       "      <td>...</td>\n",
       "      <td>Confirmation</td>\n",
       "      <td>M</td>\n",
       "      <td>2/17/1978</td>\n",
       "      <td>2.0</td>\n",
       "      <td>1.0</td>\n",
       "      <td>335249.0</td>\n",
       "      <td>28.0</td>\n",
       "      <td>335249.0</td>\n",
       "      <td>28.0</td>\n",
       "      <td>1.0</td>\n",
       "    </tr>\n",
       "    <tr>\n",
       "      <th>2</th>\n",
       "      <td>FIN1000003</td>\n",
       "      <td>800001</td>\n",
       "      <td>4/16/2007</td>\n",
       "      <td>844101.0</td>\n",
       "      <td>M</td>\n",
       "      <td>1/16/1966</td>\n",
       "      <td>M</td>\n",
       "      <td>Business</td>\n",
       "      <td>Class XII</td>\n",
       "      <td>5/27/2006</td>\n",
       "      <td>...</td>\n",
       "      <td>Confirmation</td>\n",
       "      <td>M</td>\n",
       "      <td>03-03-1969</td>\n",
       "      <td>0.0</td>\n",
       "      <td>0.0</td>\n",
       "      <td>357184.0</td>\n",
       "      <td>24.0</td>\n",
       "      <td>357184.0</td>\n",
       "      <td>24.0</td>\n",
       "      <td>0.0</td>\n",
       "    </tr>\n",
       "    <tr>\n",
       "      <th>3</th>\n",
       "      <td>FIN1000004</td>\n",
       "      <td>814112</td>\n",
       "      <td>4/16/2007</td>\n",
       "      <td>814112.0</td>\n",
       "      <td>M</td>\n",
       "      <td>02-03-1988</td>\n",
       "      <td>S</td>\n",
       "      <td>Salaried</td>\n",
       "      <td>Class XII</td>\n",
       "      <td>8/21/2003</td>\n",
       "      <td>...</td>\n",
       "      <td>Confirmation</td>\n",
       "      <td>F</td>\n",
       "      <td>8/14/1978</td>\n",
       "      <td>0.0</td>\n",
       "      <td>0.0</td>\n",
       "      <td>318356.0</td>\n",
       "      <td>22.0</td>\n",
       "      <td>318356.0</td>\n",
       "      <td>22.0</td>\n",
       "      <td>0.0</td>\n",
       "    </tr>\n",
       "    <tr>\n",
       "      <th>4</th>\n",
       "      <td>FIN1000005</td>\n",
       "      <td>814112</td>\n",
       "      <td>4/16/2007</td>\n",
       "      <td>815351.0</td>\n",
       "      <td>M</td>\n",
       "      <td>07-04-1985</td>\n",
       "      <td>M</td>\n",
       "      <td>Others</td>\n",
       "      <td>Class XII</td>\n",
       "      <td>05-08-2006</td>\n",
       "      <td>...</td>\n",
       "      <td>Confirmation</td>\n",
       "      <td>M</td>\n",
       "      <td>02-07-1971</td>\n",
       "      <td>2.0</td>\n",
       "      <td>1.0</td>\n",
       "      <td>230402.0</td>\n",
       "      <td>17.0</td>\n",
       "      <td>230402.0</td>\n",
       "      <td>17.0</td>\n",
       "      <td>0.0</td>\n",
       "    </tr>\n",
       "  </tbody>\n",
       "</table>\n",
       "<p>5 rows × 23 columns</p>\n",
       "</div>"
      ],
      "text/plain": [
       "           ID  Office_PIN Application_Receipt_Date  Applicant_City_PIN  \\\n",
       "0  FIN1000001      842001                4/16/2007            844120.0   \n",
       "1  FIN1000002      842001                4/16/2007            844111.0   \n",
       "2  FIN1000003      800001                4/16/2007            844101.0   \n",
       "3  FIN1000004      814112                4/16/2007            814112.0   \n",
       "4  FIN1000005      814112                4/16/2007            815351.0   \n",
       "\n",
       "  Applicant_Gender Applicant_BirthDate Applicant_Marital_Status  \\\n",
       "0                M          12/19/1971                        M   \n",
       "1                M           2/17/1983                        S   \n",
       "2                M           1/16/1966                        M   \n",
       "3                M          02-03-1988                        S   \n",
       "4                M          07-04-1985                        M   \n",
       "\n",
       "  Applicant_Occupation Applicant_Qualification Manager_DOJ  ...  \\\n",
       "0               Others                Graduate  11-10-2005  ...   \n",
       "1               Others               Class XII  11-10-2005  ...   \n",
       "2             Business               Class XII   5/27/2006  ...   \n",
       "3             Salaried               Class XII   8/21/2003  ...   \n",
       "4               Others               Class XII  05-08-2006  ...   \n",
       "\n",
       "  Manager_Status Manager_Gender  Manager_DoB Manager_Num_Application  \\\n",
       "0   Confirmation              M    2/17/1978                     2.0   \n",
       "1   Confirmation              M    2/17/1978                     2.0   \n",
       "2   Confirmation              M   03-03-1969                     0.0   \n",
       "3   Confirmation              F    8/14/1978                     0.0   \n",
       "4   Confirmation              M   02-07-1971                     2.0   \n",
       "\n",
       "  Manager_Num_Coded Manager_Business  Manager_Num_Products  Manager_Business2  \\\n",
       "0               1.0         335249.0                  28.0           335249.0   \n",
       "1               1.0         335249.0                  28.0           335249.0   \n",
       "2               0.0         357184.0                  24.0           357184.0   \n",
       "3               0.0         318356.0                  22.0           318356.0   \n",
       "4               1.0         230402.0                  17.0           230402.0   \n",
       "\n",
       "   Manager_Num_Products2  Business_Sourced  \n",
       "0                   28.0               0.0  \n",
       "1                   28.0               1.0  \n",
       "2                   24.0               0.0  \n",
       "3                   22.0               0.0  \n",
       "4                   17.0               0.0  \n",
       "\n",
       "[5 rows x 23 columns]"
      ]
     },
     "execution_count": 59,
     "metadata": {},
     "output_type": "execute_result"
    }
   ],
   "source": [
    "train = pd.read_csv(\"Train_gQ1XM0h.csv\")\n",
    "test = pd.read_csv(\"Test_wyCirpO_aS3XPkc.csv\")\n",
    "df = pd.concat([train, test], axis=0)\n",
    "\n",
    "df.head()"
   ]
  },
  {
   "cell_type": "code",
   "execution_count": 60,
   "metadata": {},
   "outputs": [
    {
     "data": {
      "text/html": [
       "<div>\n",
       "<style scoped>\n",
       "    .dataframe tbody tr th:only-of-type {\n",
       "        vertical-align: middle;\n",
       "    }\n",
       "\n",
       "    .dataframe tbody tr th {\n",
       "        vertical-align: top;\n",
       "    }\n",
       "\n",
       "    .dataframe thead th {\n",
       "        text-align: right;\n",
       "    }\n",
       "</style>\n",
       "<table border=\"1\" class=\"dataframe\">\n",
       "  <thead>\n",
       "    <tr style=\"text-align: right;\">\n",
       "      <th></th>\n",
       "      <th>ID</th>\n",
       "      <th>Office_PIN</th>\n",
       "      <th>Application_Receipt_Date</th>\n",
       "      <th>Applicant_City_PIN</th>\n",
       "      <th>Applicant_Gender</th>\n",
       "      <th>Applicant_BirthDate</th>\n",
       "      <th>Applicant_Marital_Status</th>\n",
       "      <th>Applicant_Occupation</th>\n",
       "      <th>Applicant_Qualification</th>\n",
       "      <th>Manager_DOJ</th>\n",
       "      <th>...</th>\n",
       "      <th>Manager_Status</th>\n",
       "      <th>Manager_Gender</th>\n",
       "      <th>Manager_DoB</th>\n",
       "      <th>Manager_Num_Application</th>\n",
       "      <th>Manager_Num_Coded</th>\n",
       "      <th>Manager_Business</th>\n",
       "      <th>Manager_Num_Products</th>\n",
       "      <th>Manager_Business2</th>\n",
       "      <th>Manager_Num_Products2</th>\n",
       "      <th>Business_Sourced</th>\n",
       "    </tr>\n",
       "  </thead>\n",
       "  <tbody>\n",
       "    <tr>\n",
       "      <th>5040</th>\n",
       "      <td>FIN1014568</td>\n",
       "      <td>691008</td>\n",
       "      <td>1/1/2009</td>\n",
       "      <td>691601.0</td>\n",
       "      <td>F</td>\n",
       "      <td>5/21/1966</td>\n",
       "      <td>M</td>\n",
       "      <td>Others</td>\n",
       "      <td>Graduate</td>\n",
       "      <td>12/2/2008</td>\n",
       "      <td>...</td>\n",
       "      <td>Probation</td>\n",
       "      <td>M</td>\n",
       "      <td>5/27/1978</td>\n",
       "      <td>0.0</td>\n",
       "      <td>0.0</td>\n",
       "      <td>0.0</td>\n",
       "      <td>0.0</td>\n",
       "      <td>0.0</td>\n",
       "      <td>0.0</td>\n",
       "      <td>NaN</td>\n",
       "    </tr>\n",
       "    <tr>\n",
       "      <th>5041</th>\n",
       "      <td>FIN1014569</td>\n",
       "      <td>691008</td>\n",
       "      <td>1/1/2009</td>\n",
       "      <td>691601.0</td>\n",
       "      <td>M</td>\n",
       "      <td>12/2/1949</td>\n",
       "      <td>M</td>\n",
       "      <td>Others</td>\n",
       "      <td>Graduate</td>\n",
       "      <td>12/2/2008</td>\n",
       "      <td>...</td>\n",
       "      <td>Probation</td>\n",
       "      <td>M</td>\n",
       "      <td>5/27/1978</td>\n",
       "      <td>0.0</td>\n",
       "      <td>0.0</td>\n",
       "      <td>0.0</td>\n",
       "      <td>0.0</td>\n",
       "      <td>0.0</td>\n",
       "      <td>0.0</td>\n",
       "      <td>NaN</td>\n",
       "    </tr>\n",
       "    <tr>\n",
       "      <th>5042</th>\n",
       "      <td>FIN1014570</td>\n",
       "      <td>691008</td>\n",
       "      <td>1/1/2009</td>\n",
       "      <td>691005.0</td>\n",
       "      <td>M</td>\n",
       "      <td>5/20/1977</td>\n",
       "      <td>M</td>\n",
       "      <td>Business</td>\n",
       "      <td>Class XII</td>\n",
       "      <td>12/2/2008</td>\n",
       "      <td>...</td>\n",
       "      <td>Probation</td>\n",
       "      <td>M</td>\n",
       "      <td>5/27/1978</td>\n",
       "      <td>0.0</td>\n",
       "      <td>0.0</td>\n",
       "      <td>0.0</td>\n",
       "      <td>0.0</td>\n",
       "      <td>0.0</td>\n",
       "      <td>0.0</td>\n",
       "      <td>NaN</td>\n",
       "    </tr>\n",
       "    <tr>\n",
       "      <th>5043</th>\n",
       "      <td>FIN1014571</td>\n",
       "      <td>208001</td>\n",
       "      <td>1/1/2009</td>\n",
       "      <td>208022.0</td>\n",
       "      <td>M</td>\n",
       "      <td>7/22/1985</td>\n",
       "      <td>M</td>\n",
       "      <td>NaN</td>\n",
       "      <td>Graduate</td>\n",
       "      <td>9/25/2008</td>\n",
       "      <td>...</td>\n",
       "      <td>Probation</td>\n",
       "      <td>M</td>\n",
       "      <td>6/26/1978</td>\n",
       "      <td>4.0</td>\n",
       "      <td>1.0</td>\n",
       "      <td>15347.0</td>\n",
       "      <td>1.0</td>\n",
       "      <td>15347.0</td>\n",
       "      <td>1.0</td>\n",
       "      <td>NaN</td>\n",
       "    </tr>\n",
       "    <tr>\n",
       "      <th>5044</th>\n",
       "      <td>FIN1014572</td>\n",
       "      <td>122002</td>\n",
       "      <td>1/1/2009</td>\n",
       "      <td>122001.0</td>\n",
       "      <td>M</td>\n",
       "      <td>5/12/1985</td>\n",
       "      <td>M</td>\n",
       "      <td>NaN</td>\n",
       "      <td>Graduate</td>\n",
       "      <td>12/19/2008</td>\n",
       "      <td>...</td>\n",
       "      <td>Probation</td>\n",
       "      <td>M</td>\n",
       "      <td>12/29/1983</td>\n",
       "      <td>0.0</td>\n",
       "      <td>0.0</td>\n",
       "      <td>0.0</td>\n",
       "      <td>0.0</td>\n",
       "      <td>0.0</td>\n",
       "      <td>0.0</td>\n",
       "      <td>NaN</td>\n",
       "    </tr>\n",
       "  </tbody>\n",
       "</table>\n",
       "<p>5 rows × 23 columns</p>\n",
       "</div>"
      ],
      "text/plain": [
       "              ID  Office_PIN Application_Receipt_Date  Applicant_City_PIN  \\\n",
       "5040  FIN1014568      691008                 1/1/2009            691601.0   \n",
       "5041  FIN1014569      691008                 1/1/2009            691601.0   \n",
       "5042  FIN1014570      691008                 1/1/2009            691005.0   \n",
       "5043  FIN1014571      208001                 1/1/2009            208022.0   \n",
       "5044  FIN1014572      122002                 1/1/2009            122001.0   \n",
       "\n",
       "     Applicant_Gender Applicant_BirthDate Applicant_Marital_Status  \\\n",
       "5040                F           5/21/1966                        M   \n",
       "5041                M           12/2/1949                        M   \n",
       "5042                M           5/20/1977                        M   \n",
       "5043                M           7/22/1985                        M   \n",
       "5044                M           5/12/1985                        M   \n",
       "\n",
       "     Applicant_Occupation Applicant_Qualification Manager_DOJ  ...  \\\n",
       "5040               Others                Graduate   12/2/2008  ...   \n",
       "5041               Others                Graduate   12/2/2008  ...   \n",
       "5042             Business               Class XII   12/2/2008  ...   \n",
       "5043                  NaN                Graduate   9/25/2008  ...   \n",
       "5044                  NaN                Graduate  12/19/2008  ...   \n",
       "\n",
       "     Manager_Status Manager_Gender  Manager_DoB Manager_Num_Application  \\\n",
       "5040      Probation              M    5/27/1978                     0.0   \n",
       "5041      Probation              M    5/27/1978                     0.0   \n",
       "5042      Probation              M    5/27/1978                     0.0   \n",
       "5043      Probation              M    6/26/1978                     4.0   \n",
       "5044      Probation              M   12/29/1983                     0.0   \n",
       "\n",
       "     Manager_Num_Coded Manager_Business  Manager_Num_Products  \\\n",
       "5040               0.0              0.0                   0.0   \n",
       "5041               0.0              0.0                   0.0   \n",
       "5042               0.0              0.0                   0.0   \n",
       "5043               1.0          15347.0                   1.0   \n",
       "5044               0.0              0.0                   0.0   \n",
       "\n",
       "      Manager_Business2  Manager_Num_Products2  Business_Sourced  \n",
       "5040                0.0                    0.0               NaN  \n",
       "5041                0.0                    0.0               NaN  \n",
       "5042                0.0                    0.0               NaN  \n",
       "5043            15347.0                    1.0               NaN  \n",
       "5044                0.0                    0.0               NaN  \n",
       "\n",
       "[5 rows x 23 columns]"
      ]
     },
     "execution_count": 60,
     "metadata": {},
     "output_type": "execute_result"
    }
   ],
   "source": [
    "df.tail()"
   ]
  },
  {
   "cell_type": "code",
   "execution_count": 61,
   "metadata": {},
   "outputs": [
    {
     "data": {
      "text/plain": [
       "Applicant_City_PIN              131\n",
       "Applicant_Gender                 89\n",
       "Applicant_BirthDate              96\n",
       "Applicant_Marital_Status        103\n",
       "Applicant_Occupation           2225\n",
       "Applicant_Qualification         130\n",
       "Manager_DOJ                    1507\n",
       "Manager_Joining_Designation    1507\n",
       "Manager_Current_Designation    1507\n",
       "Manager_Grade                  1507\n",
       "Manager_Status                 1507\n",
       "Manager_Gender                 1507\n",
       "Manager_DoB                    1507\n",
       "Manager_Num_Application        1507\n",
       "Manager_Num_Coded              1507\n",
       "Manager_Business               1507\n",
       "Manager_Num_Products           1507\n",
       "Manager_Business2              1507\n",
       "Manager_Num_Products2          1507\n",
       "Business_Sourced               5045\n",
       "dtype: int64"
      ]
     },
     "execution_count": 61,
     "metadata": {},
     "output_type": "execute_result"
    }
   ],
   "source": [
    "df.isnull().sum()[df.isnull().sum() != 0]"
   ]
  },
  {
   "cell_type": "code",
   "execution_count": 62,
   "metadata": {},
   "outputs": [
    {
     "data": {
      "text/plain": [
       "Index(['ID', 'Office_PIN', 'Application_Receipt_Date', 'Applicant_City_PIN',\n",
       "       'Applicant_Gender', 'Applicant_BirthDate', 'Applicant_Marital_Status',\n",
       "       'Applicant_Occupation', 'Applicant_Qualification', 'Manager_DOJ',\n",
       "       'Manager_Joining_Designation', 'Manager_Current_Designation',\n",
       "       'Manager_Grade', 'Manager_Status', 'Manager_Gender', 'Manager_DoB',\n",
       "       'Manager_Num_Application', 'Manager_Num_Coded', 'Manager_Business',\n",
       "       'Manager_Num_Products', 'Manager_Business2', 'Manager_Num_Products2',\n",
       "       'Business_Sourced'],\n",
       "      dtype='object')"
      ]
     },
     "execution_count": 62,
     "metadata": {},
     "output_type": "execute_result"
    }
   ],
   "source": [
    "df.columns"
   ]
  },
  {
   "cell_type": "code",
   "execution_count": 63,
   "metadata": {},
   "outputs": [],
   "source": [
    "#No use columns as of now ['ID', 'Office_PIN', 'Applicant_City_PIN', 'Manager_DOJ', 'Manager_Joining_Designation', 'Manager_Current_Designation', 'Manager_DoB']\n",
    "df.drop(['ID', 'Office_PIN', 'Applicant_City_PIN', 'Manager_DOJ', 'Manager_Joining_Designation', 'Manager_Current_Designation', 'Manager_DoB'], axis=1, inplace=True)\n"
   ]
  },
  {
   "cell_type": "code",
   "execution_count": 64,
   "metadata": {},
   "outputs": [
    {
     "name": "stdout",
     "output_type": "stream",
     "text": [
      "<class 'pandas.core.frame.DataFrame'>\n",
      "Int64Index: 14572 entries, 0 to 5044\n",
      "Data columns (total 16 columns):\n",
      " #   Column                    Non-Null Count  Dtype  \n",
      "---  ------                    --------------  -----  \n",
      " 0   Application_Receipt_Date  14572 non-null  object \n",
      " 1   Applicant_Gender          14483 non-null  object \n",
      " 2   Applicant_BirthDate       14476 non-null  object \n",
      " 3   Applicant_Marital_Status  14469 non-null  object \n",
      " 4   Applicant_Occupation      12347 non-null  object \n",
      " 5   Applicant_Qualification   14442 non-null  object \n",
      " 6   Manager_Grade             13065 non-null  float64\n",
      " 7   Manager_Status            13065 non-null  object \n",
      " 8   Manager_Gender            13065 non-null  object \n",
      " 9   Manager_Num_Application   13065 non-null  float64\n",
      " 10  Manager_Num_Coded         13065 non-null  float64\n",
      " 11  Manager_Business          13065 non-null  float64\n",
      " 12  Manager_Num_Products      13065 non-null  float64\n",
      " 13  Manager_Business2         13065 non-null  float64\n",
      " 14  Manager_Num_Products2     13065 non-null  float64\n",
      " 15  Business_Sourced          9527 non-null   float64\n",
      "dtypes: float64(8), object(8)\n",
      "memory usage: 1.9+ MB\n"
     ]
    }
   ],
   "source": [
    "df.info()"
   ]
  },
  {
   "cell_type": "code",
   "execution_count": 65,
   "metadata": {},
   "outputs": [],
   "source": [
    "df['Application_Receipt_Age_Year'] = pd.to_datetime(\"today\").year - pd.DatetimeIndex(df['Application_Receipt_Date']).year\n",
    "df['Application_Receipt_Age_Month'] = pd.to_datetime(\"today\").month - pd.DatetimeIndex(df['Application_Receipt_Date']).month\n",
    "df.drop(['Application_Receipt_Date'], axis=1, inplace=True)\n",
    "\n",
    "df['Applicant_BirthDate_Year'] = pd.to_datetime(\"today\").year - pd.DatetimeIndex(df['Applicant_BirthDate']).year\n",
    "df.drop(['Applicant_BirthDate'], axis=1, inplace=True)"
   ]
  },
  {
   "cell_type": "code",
   "execution_count": 67,
   "metadata": {},
   "outputs": [],
   "source": [
    "df['Applicant_Gender'].fillna('Other',inplace=True)\n",
    "\n",
    "df['Applicant_Marital_Status'].replace('W', 'Other', inplace=True)\n",
    "df['Applicant_Marital_Status'].replace('D', 'Other', inplace=True)\n",
    "df['Applicant_Marital_Status'].fillna('Other',inplace=True)\n",
    "\n",
    "df['Applicant_Occupation'].replace('Self Employed', 'Others', inplace=True)\n",
    "df['Applicant_Occupation'].replace('Student', 'Others', inplace=True)\n",
    "df['Applicant_Occupation'].fillna('Others',inplace=True)\n",
    "\n",
    "df['Applicant_Qualification'].replace('Masters of Business Administration', 'PG', inplace=True)\n",
    "df['Applicant_Qualification'].replace('Professional Qualification in Marketing', 'PG', inplace=True)\n",
    "df['Applicant_Qualification'].replace('Associate / Fellow of Institute of Chartered Accountans of India', 'PG', inplace=True)\n",
    "df['Applicant_Qualification'].replace('Certified Associateship of Indian Institute of Bankers', 'PG', inplace=True)\n",
    "df['Applicant_Qualification'].replace('Associate/Fellow of Institute of Institute of Costs and Works Accountants of India', 'PG', inplace=True)\n",
    "df['Applicant_Qualification'].replace('Associate/Fellow of Institute of Company Secretories of India', 'PG', inplace=True)\n",
    "df['Applicant_Qualification'].replace('Associate/Fellow of Insurance Institute of India', 'PG', inplace=True)\n",
    "df['Applicant_Qualification'].replace('Associate/Fellow of Acturial Society of India', 'PG', inplace=True)\n",
    "df['Applicant_Qualification'].fillna('Others',inplace=True)\n",
    "\n",
    "df['Applicant_BirthDate_Year'].fillna(df['Applicant_BirthDate_Year'].median(),inplace=True)"
   ]
  },
  {
   "cell_type": "markdown",
   "metadata": {},
   "source": [
    "* Filled the missing value of __Applicant_Gender__ as __other__.\n",
    "* Filled the missing value of __Applicant_Marital_Status__ as __other__ and combined \"W\" and \"D\" to other.\n",
    "* Filled the missing value of __Applicant_Occupation__ as __others__ and combined \"Self Employed\" and \"Student\" to others.\n",
    "* Filled the missing value of __Applicant_Qualification__ as __others__ and combined single categories as \"PG\".\n",
    "* Filled the missing value of __Applicant_BirthDate_Year__ with __median__."
   ]
  },
  {
   "cell_type": "code",
   "execution_count": 69,
   "metadata": {},
   "outputs": [],
   "source": [
    "df.drop(['Manager_Grade', 'Manager_Status', 'Manager_Gender', 'Manager_Business2', 'Manager_Num_Products2'], axis=1, inplace=True)"
   ]
  },
  {
   "cell_type": "code",
   "execution_count": 72,
   "metadata": {},
   "outputs": [],
   "source": [
    "df['Manager_Num_Application'].fillna(df['Manager_Num_Application'].median(),inplace=True)\n",
    "df['Manager_Business'].fillna(df['Manager_Business'].median(),inplace=True)\n",
    "df['Manager_Num_Products'].fillna(df['Manager_Num_Products'].median(),inplace=True)\n",
    "df['Manager_Num_Coded'].fillna(df['Manager_Num_Coded'].median(),inplace=True)"
   ]
  },
  {
   "cell_type": "markdown",
   "metadata": {},
   "source": [
    "* Filled the missing value of __Manager_Num_Application__ with __median__.\n",
    "* Filled the missing value of __Manager_Business__ with __median__.\n",
    "* Filled the missing value of __Manager_Num_Products__ with __median__.\n",
    "* Filled the missing value of __Manager_Num_Coded__ with __median__."
   ]
  },
  {
   "cell_type": "code",
   "execution_count": 76,
   "metadata": {},
   "outputs": [
    {
     "data": {
      "text/plain": [
       "2     2095\n",
       "4     1906\n",
       "11    1740\n",
       "1     1585\n",
       "10    1441\n",
       "0     1255\n",
       "3     1188\n",
       "9     1114\n",
       "5     1014\n",
       "8      629\n",
       "7      418\n",
       "6      187\n",
       "Name: Application_Receipt_Age_Month, dtype: int64"
      ]
     },
     "execution_count": 76,
     "metadata": {},
     "output_type": "execute_result"
    }
   ],
   "source": [
    "df['Application_Receipt_Age_Month'].replace(-1, 9, inplace=True)\n",
    "df['Application_Receipt_Age_Month'].replace(-2, 10, inplace=True)\n",
    "df['Application_Receipt_Age_Month'].replace(-3, 11, inplace=True)\n",
    "df['Application_Receipt_Age_Month'].value_counts()"
   ]
  },
  {
   "cell_type": "code",
   "execution_count": 78,
   "metadata": {},
   "outputs": [],
   "source": [
    "df['Manager_Num_Application'] = df['Manager_Num_Application'].astype('int')\n",
    "df['Manager_Business'] = df['Manager_Business'].astype('int')\n",
    "df['Manager_Num_Products'] = df['Manager_Num_Products'].astype('int')\n",
    "df['Manager_Num_Coded'] = df['Manager_Num_Coded'].astype('int')"
   ]
  },
  {
   "cell_type": "code",
   "execution_count": 80,
   "metadata": {},
   "outputs": [],
   "source": [
    "bins = [0, 5, 10, 15, 20, 25, 30, 105]\n",
    "labels = ['0-5', '5-10', '10-15', '15-20', '20-25', '25-30', '30+']\n",
    "df['Manager_Num_Products'] = pd.cut(df.Manager_Num_Products, bins, labels = labels,include_lowest = True)\n",
    "\n",
    "df['Manager_Num_Products'].replace('0-5', '0', inplace=True)\n",
    "df['Manager_Num_Products'].replace('5-10', '1', inplace=True)\n",
    "df['Manager_Num_Products'].replace('10-15', '2', inplace=True)\n",
    "df['Manager_Num_Products'].replace('15-20', '3', inplace=True)\n",
    "df['Manager_Num_Products'].replace('20-25', '4', inplace=True)\n",
    "df['Manager_Num_Products'].replace('25-30', '5', inplace=True)\n",
    "df['Manager_Num_Products'].replace('30+', '6', inplace=True)\n",
    "\n",
    "bins = [-265289, 0, 1529756, 3578265]\n",
    "labels = ['defaulter', 'below_Avg', 'above_Avg']\n",
    "df['Manager_Business'] = pd.cut(df.Manager_Business, bins, labels = labels,include_lowest = True)\n",
    "\n",
    "df['Manager_Business'].replace('defaulter', '0', inplace=True)\n",
    "df['Manager_Business'].replace('below_Avg', '1', inplace=True)\n",
    "df['Manager_Business'].replace('above_Avg', '2', inplace=True)"
   ]
  },
  {
   "cell_type": "code",
   "execution_count": 82,
   "metadata": {},
   "outputs": [
    {
     "name": "stdout",
     "output_type": "stream",
     "text": [
      "{11: 0, 12: 1, 13: 2}\n",
      "{'0-29': 0, '30-59': 1, '60+': 2}\n",
      "{'Class X': 0, 'Class XII': 1, 'Graduate': 2, 'Others': 3, 'PG': 4}\n"
     ]
    }
   ],
   "source": [
    "from sklearn.preprocessing import LabelEncoder\n",
    "\n",
    "#label encode the cateorical features\n",
    "le = LabelEncoder()\n",
    "\n",
    "df['Application_Receipt_Age_Year'] = le.fit_transform(df['Application_Receipt_Age_Year'])\n",
    "le_name_mapping = dict(zip(le.classes_, le.transform(le.classes_)))\n",
    "print(le_name_mapping)\n",
    "\n",
    "bins = [0, 30, 60, 100]\n",
    "labels = ['0-29', '30-59', '60+']\n",
    "df['Applicant_BirthDate_Year_range'] = pd.cut(df.Applicant_BirthDate_Year, bins, labels = labels,include_lowest = True)\n",
    "\n",
    "df['Applicant_BirthDate_Year_range'] = le.fit_transform(df['Applicant_BirthDate_Year_range'])\n",
    "le_name_mapping = dict(zip(le.classes_, le.transform(le.classes_)))\n",
    "print(le_name_mapping)\n",
    "\n",
    "df.drop(['Applicant_BirthDate_Year'], axis=1, inplace=True)\n",
    "\n",
    "df['Applicant_Qualification'] = le.fit_transform(df['Applicant_Qualification'])\n",
    "le_name_mapping = dict(zip(le.classes_, le.transform(le.classes_)))\n",
    "print(le_name_mapping)"
   ]
  },
  {
   "cell_type": "code",
   "execution_count": 89,
   "metadata": {},
   "outputs": [],
   "source": [
    "ag = pd.get_dummies(df.Applicant_Gender, prefix='Applicant_Gender', drop_first=True)\n",
    "ams = pd.get_dummies(df.Applicant_Marital_Status, prefix='Applicant_Marital_Status', drop_first=True)\n",
    "ao = pd.get_dummies(df.Applicant_Occupation, prefix='Applicant_Occupation', drop_first=True)"
   ]
  },
  {
   "cell_type": "code",
   "execution_count": 93,
   "metadata": {},
   "outputs": [],
   "source": [
    "df = pd.concat([df, ag, ams, ao], axis=1)"
   ]
  },
  {
   "cell_type": "code",
   "execution_count": 95,
   "metadata": {},
   "outputs": [
    {
     "data": {
      "text/html": [
       "<div>\n",
       "<style scoped>\n",
       "    .dataframe tbody tr th:only-of-type {\n",
       "        vertical-align: middle;\n",
       "    }\n",
       "\n",
       "    .dataframe tbody tr th {\n",
       "        vertical-align: top;\n",
       "    }\n",
       "\n",
       "    .dataframe thead th {\n",
       "        text-align: right;\n",
       "    }\n",
       "</style>\n",
       "<table border=\"1\" class=\"dataframe\">\n",
       "  <thead>\n",
       "    <tr style=\"text-align: right;\">\n",
       "      <th></th>\n",
       "      <th>Applicant_Qualification</th>\n",
       "      <th>Manager_Num_Application</th>\n",
       "      <th>Manager_Num_Coded</th>\n",
       "      <th>Manager_Business</th>\n",
       "      <th>Manager_Num_Products</th>\n",
       "      <th>Business_Sourced</th>\n",
       "      <th>Application_Receipt_Age_Year</th>\n",
       "      <th>Application_Receipt_Age_Month</th>\n",
       "      <th>Applicant_BirthDate_Year_range</th>\n",
       "      <th>Applicant_Gender_M</th>\n",
       "      <th>Applicant_Gender_Other</th>\n",
       "      <th>Applicant_Marital_Status_Other</th>\n",
       "      <th>Applicant_Marital_Status_S</th>\n",
       "      <th>Applicant_Occupation_Others</th>\n",
       "      <th>Applicant_Occupation_Salaried</th>\n",
       "    </tr>\n",
       "  </thead>\n",
       "  <tbody>\n",
       "    <tr>\n",
       "      <th>0</th>\n",
       "      <td>2</td>\n",
       "      <td>2</td>\n",
       "      <td>1</td>\n",
       "      <td>1</td>\n",
       "      <td>5</td>\n",
       "      <td>0.0</td>\n",
       "      <td>2</td>\n",
       "      <td>5</td>\n",
       "      <td>1</td>\n",
       "      <td>1</td>\n",
       "      <td>0</td>\n",
       "      <td>0</td>\n",
       "      <td>0</td>\n",
       "      <td>1</td>\n",
       "      <td>0</td>\n",
       "    </tr>\n",
       "    <tr>\n",
       "      <th>1</th>\n",
       "      <td>1</td>\n",
       "      <td>2</td>\n",
       "      <td>1</td>\n",
       "      <td>1</td>\n",
       "      <td>5</td>\n",
       "      <td>1.0</td>\n",
       "      <td>2</td>\n",
       "      <td>5</td>\n",
       "      <td>1</td>\n",
       "      <td>1</td>\n",
       "      <td>0</td>\n",
       "      <td>0</td>\n",
       "      <td>1</td>\n",
       "      <td>1</td>\n",
       "      <td>0</td>\n",
       "    </tr>\n",
       "    <tr>\n",
       "      <th>2</th>\n",
       "      <td>1</td>\n",
       "      <td>0</td>\n",
       "      <td>0</td>\n",
       "      <td>1</td>\n",
       "      <td>4</td>\n",
       "      <td>0.0</td>\n",
       "      <td>2</td>\n",
       "      <td>5</td>\n",
       "      <td>1</td>\n",
       "      <td>1</td>\n",
       "      <td>0</td>\n",
       "      <td>0</td>\n",
       "      <td>0</td>\n",
       "      <td>0</td>\n",
       "      <td>0</td>\n",
       "    </tr>\n",
       "    <tr>\n",
       "      <th>3</th>\n",
       "      <td>1</td>\n",
       "      <td>0</td>\n",
       "      <td>0</td>\n",
       "      <td>1</td>\n",
       "      <td>4</td>\n",
       "      <td>0.0</td>\n",
       "      <td>2</td>\n",
       "      <td>5</td>\n",
       "      <td>1</td>\n",
       "      <td>1</td>\n",
       "      <td>0</td>\n",
       "      <td>0</td>\n",
       "      <td>1</td>\n",
       "      <td>0</td>\n",
       "      <td>1</td>\n",
       "    </tr>\n",
       "    <tr>\n",
       "      <th>4</th>\n",
       "      <td>1</td>\n",
       "      <td>2</td>\n",
       "      <td>1</td>\n",
       "      <td>1</td>\n",
       "      <td>3</td>\n",
       "      <td>0.0</td>\n",
       "      <td>2</td>\n",
       "      <td>5</td>\n",
       "      <td>1</td>\n",
       "      <td>1</td>\n",
       "      <td>0</td>\n",
       "      <td>0</td>\n",
       "      <td>0</td>\n",
       "      <td>1</td>\n",
       "      <td>0</td>\n",
       "    </tr>\n",
       "  </tbody>\n",
       "</table>\n",
       "</div>"
      ],
      "text/plain": [
       "   Applicant_Qualification  Manager_Num_Application  Manager_Num_Coded  \\\n",
       "0                        2                        2                  1   \n",
       "1                        1                        2                  1   \n",
       "2                        1                        0                  0   \n",
       "3                        1                        0                  0   \n",
       "4                        1                        2                  1   \n",
       "\n",
       "  Manager_Business Manager_Num_Products  Business_Sourced  \\\n",
       "0                1                    5               0.0   \n",
       "1                1                    5               1.0   \n",
       "2                1                    4               0.0   \n",
       "3                1                    4               0.0   \n",
       "4                1                    3               0.0   \n",
       "\n",
       "   Application_Receipt_Age_Year  Application_Receipt_Age_Month  \\\n",
       "0                             2                              5   \n",
       "1                             2                              5   \n",
       "2                             2                              5   \n",
       "3                             2                              5   \n",
       "4                             2                              5   \n",
       "\n",
       "   Applicant_BirthDate_Year_range  Applicant_Gender_M  Applicant_Gender_Other  \\\n",
       "0                               1                   1                       0   \n",
       "1                               1                   1                       0   \n",
       "2                               1                   1                       0   \n",
       "3                               1                   1                       0   \n",
       "4                               1                   1                       0   \n",
       "\n",
       "   Applicant_Marital_Status_Other  Applicant_Marital_Status_S  \\\n",
       "0                               0                           0   \n",
       "1                               0                           1   \n",
       "2                               0                           0   \n",
       "3                               0                           1   \n",
       "4                               0                           0   \n",
       "\n",
       "   Applicant_Occupation_Others  Applicant_Occupation_Salaried  \n",
       "0                            1                              0  \n",
       "1                            1                              0  \n",
       "2                            0                              0  \n",
       "3                            0                              1  \n",
       "4                            1                              0  "
      ]
     },
     "execution_count": 95,
     "metadata": {},
     "output_type": "execute_result"
    }
   ],
   "source": [
    "df.drop(['Applicant_Gender', 'Applicant_Marital_Status', 'Applicant_Occupation'], axis=1, inplace=True)\n",
    "df.head()"
   ]
  },
  {
   "cell_type": "code",
   "execution_count": 98,
   "metadata": {},
   "outputs": [],
   "source": [
    "#df['Application_Receipt_Age_Month'].median()\n",
    "df.drop(['Application_Receipt_Age_Month'], axis=1, inplace=True)\n",
    "# Deleting month values"
   ]
  },
  {
   "cell_type": "code",
   "execution_count": 129,
   "metadata": {},
   "outputs": [],
   "source": [
    "df['Manager_Business'] = df['Manager_Business'].astype('int')\n",
    "df['Manager_Num_Products'] = df['Manager_Num_Products'].astype('int')"
   ]
  },
  {
   "cell_type": "code",
   "execution_count": 99,
   "metadata": {},
   "outputs": [
    {
     "data": {
      "text/html": [
       "<div>\n",
       "<style scoped>\n",
       "    .dataframe tbody tr th:only-of-type {\n",
       "        vertical-align: middle;\n",
       "    }\n",
       "\n",
       "    .dataframe tbody tr th {\n",
       "        vertical-align: top;\n",
       "    }\n",
       "\n",
       "    .dataframe thead th {\n",
       "        text-align: right;\n",
       "    }\n",
       "</style>\n",
       "<table border=\"1\" class=\"dataframe\">\n",
       "  <thead>\n",
       "    <tr style=\"text-align: right;\">\n",
       "      <th></th>\n",
       "      <th>Applicant_Qualification</th>\n",
       "      <th>Manager_Num_Application</th>\n",
       "      <th>Manager_Num_Coded</th>\n",
       "      <th>Manager_Business</th>\n",
       "      <th>Manager_Num_Products</th>\n",
       "      <th>Business_Sourced</th>\n",
       "      <th>Application_Receipt_Age_Year</th>\n",
       "      <th>Applicant_BirthDate_Year_range</th>\n",
       "      <th>Applicant_Gender_M</th>\n",
       "      <th>Applicant_Gender_Other</th>\n",
       "      <th>Applicant_Marital_Status_Other</th>\n",
       "      <th>Applicant_Marital_Status_S</th>\n",
       "      <th>Applicant_Occupation_Others</th>\n",
       "      <th>Applicant_Occupation_Salaried</th>\n",
       "    </tr>\n",
       "  </thead>\n",
       "  <tbody>\n",
       "    <tr>\n",
       "      <th>0</th>\n",
       "      <td>2</td>\n",
       "      <td>2</td>\n",
       "      <td>1</td>\n",
       "      <td>1</td>\n",
       "      <td>5</td>\n",
       "      <td>0.0</td>\n",
       "      <td>2</td>\n",
       "      <td>1</td>\n",
       "      <td>1</td>\n",
       "      <td>0</td>\n",
       "      <td>0</td>\n",
       "      <td>0</td>\n",
       "      <td>1</td>\n",
       "      <td>0</td>\n",
       "    </tr>\n",
       "    <tr>\n",
       "      <th>1</th>\n",
       "      <td>1</td>\n",
       "      <td>2</td>\n",
       "      <td>1</td>\n",
       "      <td>1</td>\n",
       "      <td>5</td>\n",
       "      <td>1.0</td>\n",
       "      <td>2</td>\n",
       "      <td>1</td>\n",
       "      <td>1</td>\n",
       "      <td>0</td>\n",
       "      <td>0</td>\n",
       "      <td>1</td>\n",
       "      <td>1</td>\n",
       "      <td>0</td>\n",
       "    </tr>\n",
       "    <tr>\n",
       "      <th>2</th>\n",
       "      <td>1</td>\n",
       "      <td>0</td>\n",
       "      <td>0</td>\n",
       "      <td>1</td>\n",
       "      <td>4</td>\n",
       "      <td>0.0</td>\n",
       "      <td>2</td>\n",
       "      <td>1</td>\n",
       "      <td>1</td>\n",
       "      <td>0</td>\n",
       "      <td>0</td>\n",
       "      <td>0</td>\n",
       "      <td>0</td>\n",
       "      <td>0</td>\n",
       "    </tr>\n",
       "    <tr>\n",
       "      <th>3</th>\n",
       "      <td>1</td>\n",
       "      <td>0</td>\n",
       "      <td>0</td>\n",
       "      <td>1</td>\n",
       "      <td>4</td>\n",
       "      <td>0.0</td>\n",
       "      <td>2</td>\n",
       "      <td>1</td>\n",
       "      <td>1</td>\n",
       "      <td>0</td>\n",
       "      <td>0</td>\n",
       "      <td>1</td>\n",
       "      <td>0</td>\n",
       "      <td>1</td>\n",
       "    </tr>\n",
       "    <tr>\n",
       "      <th>4</th>\n",
       "      <td>1</td>\n",
       "      <td>2</td>\n",
       "      <td>1</td>\n",
       "      <td>1</td>\n",
       "      <td>3</td>\n",
       "      <td>0.0</td>\n",
       "      <td>2</td>\n",
       "      <td>1</td>\n",
       "      <td>1</td>\n",
       "      <td>0</td>\n",
       "      <td>0</td>\n",
       "      <td>0</td>\n",
       "      <td>1</td>\n",
       "      <td>0</td>\n",
       "    </tr>\n",
       "  </tbody>\n",
       "</table>\n",
       "</div>"
      ],
      "text/plain": [
       "   Applicant_Qualification  Manager_Num_Application  Manager_Num_Coded  \\\n",
       "0                        2                        2                  1   \n",
       "1                        1                        2                  1   \n",
       "2                        1                        0                  0   \n",
       "3                        1                        0                  0   \n",
       "4                        1                        2                  1   \n",
       "\n",
       "  Manager_Business Manager_Num_Products  Business_Sourced  \\\n",
       "0                1                    5               0.0   \n",
       "1                1                    5               1.0   \n",
       "2                1                    4               0.0   \n",
       "3                1                    4               0.0   \n",
       "4                1                    3               0.0   \n",
       "\n",
       "   Application_Receipt_Age_Year  Applicant_BirthDate_Year_range  \\\n",
       "0                             2                               1   \n",
       "1                             2                               1   \n",
       "2                             2                               1   \n",
       "3                             2                               1   \n",
       "4                             2                               1   \n",
       "\n",
       "   Applicant_Gender_M  Applicant_Gender_Other  Applicant_Marital_Status_Other  \\\n",
       "0                   1                       0                               0   \n",
       "1                   1                       0                               0   \n",
       "2                   1                       0                               0   \n",
       "3                   1                       0                               0   \n",
       "4                   1                       0                               0   \n",
       "\n",
       "   Applicant_Marital_Status_S  Applicant_Occupation_Others  \\\n",
       "0                           0                            1   \n",
       "1                           1                            1   \n",
       "2                           0                            0   \n",
       "3                           1                            0   \n",
       "4                           0                            1   \n",
       "\n",
       "   Applicant_Occupation_Salaried  \n",
       "0                              0  \n",
       "1                              0  \n",
       "2                              0  \n",
       "3                              1  \n",
       "4                              0  "
      ]
     },
     "execution_count": 99,
     "metadata": {},
     "output_type": "execute_result"
    }
   ],
   "source": [
    "df.head()"
   ]
  },
  {
   "cell_type": "code",
   "execution_count": 126,
   "metadata": {},
   "outputs": [
    {
     "data": {
      "text/plain": [
       "1    9819\n",
       "0    4699\n",
       "2      54\n",
       "Name: Manager_Business, dtype: int64"
      ]
     },
     "execution_count": 126,
     "metadata": {},
     "output_type": "execute_result"
    }
   ],
   "source": [
    "df['Manager_Business'].value_counts()"
   ]
  },
  {
   "cell_type": "code",
   "execution_count": 127,
   "metadata": {},
   "outputs": [
    {
     "data": {
      "text/plain": [
       "0    9028\n",
       "1    2667\n",
       "2    1541\n",
       "3     720\n",
       "4     306\n",
       "6     170\n",
       "5     140\n",
       "Name: Manager_Num_Products, dtype: int64"
      ]
     },
     "execution_count": 127,
     "metadata": {},
     "output_type": "execute_result"
    }
   ],
   "source": [
    "df['Manager_Num_Products'].value_counts()"
   ]
  },
  {
   "cell_type": "code",
   "execution_count": 130,
   "metadata": {},
   "outputs": [
    {
     "name": "stdout",
     "output_type": "stream",
     "text": [
      "<class 'pandas.core.frame.DataFrame'>\n",
      "Int64Index: 14572 entries, 0 to 5044\n",
      "Data columns (total 14 columns):\n",
      " #   Column                          Non-Null Count  Dtype  \n",
      "---  ------                          --------------  -----  \n",
      " 0   Applicant_Qualification         14572 non-null  int32  \n",
      " 1   Manager_Num_Application         14572 non-null  int32  \n",
      " 2   Manager_Num_Coded               14572 non-null  int32  \n",
      " 3   Manager_Business                14572 non-null  int32  \n",
      " 4   Manager_Num_Products            14572 non-null  int32  \n",
      " 5   Business_Sourced                9527 non-null   float64\n",
      " 6   Application_Receipt_Age_Year    14572 non-null  int64  \n",
      " 7   Applicant_BirthDate_Year_range  14572 non-null  int32  \n",
      " 8   Applicant_Gender_M              14572 non-null  uint8  \n",
      " 9   Applicant_Gender_Other          14572 non-null  uint8  \n",
      " 10  Applicant_Marital_Status_Other  14572 non-null  uint8  \n",
      " 11  Applicant_Marital_Status_S      14572 non-null  uint8  \n",
      " 12  Applicant_Occupation_Others     14572 non-null  uint8  \n",
      " 13  Applicant_Occupation_Salaried   14572 non-null  uint8  \n",
      "dtypes: float64(1), int32(6), int64(1), uint8(6)\n",
      "memory usage: 768.4 KB\n"
     ]
    }
   ],
   "source": [
    "df.info()"
   ]
  },
  {
   "cell_type": "code",
   "execution_count": 42,
   "metadata": {},
   "outputs": [],
   "source": []
  },
  {
   "cell_type": "code",
   "execution_count": 45,
   "metadata": {},
   "outputs": [
    {
     "data": {
      "text/plain": [
       "<AxesSubplot:xlabel='Manager_Num_Coded', ylabel='count'>"
      ]
     },
     "execution_count": 45,
     "metadata": {},
     "output_type": "execute_result"
    },
    {
     "data": {
      "image/png": "[encoded data removed]",
      "text/plain": [
       "<Figure size 1080x360 with 1 Axes>"
      ]
     },
     "metadata": {
      "needs_background": "light"
     },
     "output_type": "display_data"
    }
   ],
   "source": [
    "fig, axis1 = plt.subplots(1,1,figsize=(15,5))\n",
    "sns.countplot(x='Manager_Num_Coded', hue=\"Business_Sourced\", data=df, ax=axis1)"
   ]
  },
  {
   "cell_type": "code",
   "execution_count": 46,
   "metadata": {},
   "outputs": [
    {
     "data": {
      "text/plain": [
       "<AxesSubplot:xlabel='Manager_Business', ylabel='count'>"
      ]
     },
     "execution_count": 46,
     "metadata": {},
     "output_type": "execute_result"
    },
    {
     "data": {
      "image/png": "[encoded data removed]",
      "text/plain": [
       "<Figure size 1080x360 with 1 Axes>"
      ]
     },
     "metadata": {
      "needs_background": "light"
     },
     "output_type": "display_data"
    }
   ],
   "source": [
    "fig, axis1 = plt.subplots(1,1,figsize=(15,5))\n",
    "sns.countplot(x='Manager_Business', hue=\"Business_Sourced\", data=df, ax=axis1)"
   ]
  },
  {
   "cell_type": "code",
   "execution_count": null,
   "metadata": {},
   "outputs": [],
   "source": []
  },
  {
   "cell_type": "code",
   "execution_count": 131,
   "metadata": {},
   "outputs": [],
   "source": [
    "# train data 9527\n",
    "# test data 5045\n",
    "\n",
    "train = pd.DataFrame()\n",
    "test = pd.DataFrame()\n",
    "\n",
    "if df.shape[0] > 9527:\n",
    "    train = df[:9527]\n",
    "    test = df[9527:]"
   ]
  },
  {
   "cell_type": "code",
   "execution_count": 132,
   "metadata": {},
   "outputs": [
    {
     "data": {
      "text/html": [
       "<div>\n",
       "<style scoped>\n",
       "    .dataframe tbody tr th:only-of-type {\n",
       "        vertical-align: middle;\n",
       "    }\n",
       "\n",
       "    .dataframe tbody tr th {\n",
       "        vertical-align: top;\n",
       "    }\n",
       "\n",
       "    .dataframe thead th {\n",
       "        text-align: right;\n",
       "    }\n",
       "</style>\n",
       "<table border=\"1\" class=\"dataframe\">\n",
       "  <thead>\n",
       "    <tr style=\"text-align: right;\">\n",
       "      <th></th>\n",
       "      <th>Applicant_Qualification</th>\n",
       "      <th>Manager_Num_Application</th>\n",
       "      <th>Manager_Num_Coded</th>\n",
       "      <th>Manager_Business</th>\n",
       "      <th>Manager_Num_Products</th>\n",
       "      <th>Business_Sourced</th>\n",
       "      <th>Application_Receipt_Age_Year</th>\n",
       "      <th>Applicant_BirthDate_Year_range</th>\n",
       "      <th>Applicant_Gender_M</th>\n",
       "      <th>Applicant_Gender_Other</th>\n",
       "      <th>Applicant_Marital_Status_Other</th>\n",
       "      <th>Applicant_Marital_Status_S</th>\n",
       "      <th>Applicant_Occupation_Others</th>\n",
       "      <th>Applicant_Occupation_Salaried</th>\n",
       "    </tr>\n",
       "  </thead>\n",
       "  <tbody>\n",
       "    <tr>\n",
       "      <th>0</th>\n",
       "      <td>2</td>\n",
       "      <td>2</td>\n",
       "      <td>1</td>\n",
       "      <td>1</td>\n",
       "      <td>5</td>\n",
       "      <td>0.0</td>\n",
       "      <td>2</td>\n",
       "      <td>1</td>\n",
       "      <td>1</td>\n",
       "      <td>0</td>\n",
       "      <td>0</td>\n",
       "      <td>0</td>\n",
       "      <td>1</td>\n",
       "      <td>0</td>\n",
       "    </tr>\n",
       "    <tr>\n",
       "      <th>1</th>\n",
       "      <td>1</td>\n",
       "      <td>2</td>\n",
       "      <td>1</td>\n",
       "      <td>1</td>\n",
       "      <td>5</td>\n",
       "      <td>1.0</td>\n",
       "      <td>2</td>\n",
       "      <td>1</td>\n",
       "      <td>1</td>\n",
       "      <td>0</td>\n",
       "      <td>0</td>\n",
       "      <td>1</td>\n",
       "      <td>1</td>\n",
       "      <td>0</td>\n",
       "    </tr>\n",
       "    <tr>\n",
       "      <th>2</th>\n",
       "      <td>1</td>\n",
       "      <td>0</td>\n",
       "      <td>0</td>\n",
       "      <td>1</td>\n",
       "      <td>4</td>\n",
       "      <td>0.0</td>\n",
       "      <td>2</td>\n",
       "      <td>1</td>\n",
       "      <td>1</td>\n",
       "      <td>0</td>\n",
       "      <td>0</td>\n",
       "      <td>0</td>\n",
       "      <td>0</td>\n",
       "      <td>0</td>\n",
       "    </tr>\n",
       "    <tr>\n",
       "      <th>3</th>\n",
       "      <td>1</td>\n",
       "      <td>0</td>\n",
       "      <td>0</td>\n",
       "      <td>1</td>\n",
       "      <td>4</td>\n",
       "      <td>0.0</td>\n",
       "      <td>2</td>\n",
       "      <td>1</td>\n",
       "      <td>1</td>\n",
       "      <td>0</td>\n",
       "      <td>0</td>\n",
       "      <td>1</td>\n",
       "      <td>0</td>\n",
       "      <td>1</td>\n",
       "    </tr>\n",
       "    <tr>\n",
       "      <th>4</th>\n",
       "      <td>1</td>\n",
       "      <td>2</td>\n",
       "      <td>1</td>\n",
       "      <td>1</td>\n",
       "      <td>3</td>\n",
       "      <td>0.0</td>\n",
       "      <td>2</td>\n",
       "      <td>1</td>\n",
       "      <td>1</td>\n",
       "      <td>0</td>\n",
       "      <td>0</td>\n",
       "      <td>0</td>\n",
       "      <td>1</td>\n",
       "      <td>0</td>\n",
       "    </tr>\n",
       "  </tbody>\n",
       "</table>\n",
       "</div>"
      ],
      "text/plain": [
       "   Applicant_Qualification  Manager_Num_Application  Manager_Num_Coded  \\\n",
       "0                        2                        2                  1   \n",
       "1                        1                        2                  1   \n",
       "2                        1                        0                  0   \n",
       "3                        1                        0                  0   \n",
       "4                        1                        2                  1   \n",
       "\n",
       "   Manager_Business  Manager_Num_Products  Business_Sourced  \\\n",
       "0                 1                     5               0.0   \n",
       "1                 1                     5               1.0   \n",
       "2                 1                     4               0.0   \n",
       "3                 1                     4               0.0   \n",
       "4                 1                     3               0.0   \n",
       "\n",
       "   Application_Receipt_Age_Year  Applicant_BirthDate_Year_range  \\\n",
       "0                             2                               1   \n",
       "1                             2                               1   \n",
       "2                             2                               1   \n",
       "3                             2                               1   \n",
       "4                             2                               1   \n",
       "\n",
       "   Applicant_Gender_M  Applicant_Gender_Other  Applicant_Marital_Status_Other  \\\n",
       "0                   1                       0                               0   \n",
       "1                   1                       0                               0   \n",
       "2                   1                       0                               0   \n",
       "3                   1                       0                               0   \n",
       "4                   1                       0                               0   \n",
       "\n",
       "   Applicant_Marital_Status_S  Applicant_Occupation_Others  \\\n",
       "0                           0                            1   \n",
       "1                           1                            1   \n",
       "2                           0                            0   \n",
       "3                           1                            0   \n",
       "4                           0                            1   \n",
       "\n",
       "   Applicant_Occupation_Salaried  \n",
       "0                              0  \n",
       "1                              0  \n",
       "2                              0  \n",
       "3                              1  \n",
       "4                              0  "
      ]
     },
     "execution_count": 132,
     "metadata": {},
     "output_type": "execute_result"
    }
   ],
   "source": [
    "train.head()"
   ]
  },
  {
   "cell_type": "code",
   "execution_count": 133,
   "metadata": {},
   "outputs": [
    {
     "data": {
      "text/plain": [
       "((9527, 13), (9527,))"
      ]
     },
     "execution_count": 133,
     "metadata": {},
     "output_type": "execute_result"
    }
   ],
   "source": [
    "X = train.loc[:, train.columns != 'Business_Sourced']\n",
    "y = train['Business_Sourced']\n",
    "X.shape, y.shape"
   ]
  },
  {
   "cell_type": "code",
   "execution_count": 134,
   "metadata": {},
   "outputs": [
    {
     "name": "stdout",
     "output_type": "stream",
     "text": [
      "(7621, 13) (7621,)\n",
      "(1906, 13) (1906,)\n"
     ]
    }
   ],
   "source": [
    "from sklearn.model_selection import cross_val_score, GridSearchCV, train_test_split\n",
    "X_train, X_test, y_train, y_test = train_test_split(X, y, test_size=0.20, random_state=123)\n",
    "\n",
    "print(X_train.shape, y_train.shape)\n",
    "print(X_test.shape, y_test.shape)"
   ]
  },
  {
   "cell_type": "code",
   "execution_count": 105,
   "metadata": {},
   "outputs": [],
   "source": [
    "from sklearn import metrics\n",
    "from sklearn.preprocessing import LabelEncoder, MinMaxScaler\n",
    "from sklearn.metrics import accuracy_score,confusion_matrix, f1_score, accuracy_score, precision_score, recall_score, precision_recall_fscore_support, roc_curve, auc\n",
    "from sklearn.model_selection import cross_val_score,GridSearchCV,train_test_split\n",
    "from sklearn.linear_model import LogisticRegression\n",
    "from sklearn import tree\n",
    "from sklearn.tree import DecisionTreeClassifier\n",
    "from sklearn.ensemble import RandomForestClassifier, GradientBoostingClassifier\n",
    "from sklearn.neighbors import KNeighborsClassifier\n",
    "from sklearn.naive_bayes import GaussianNB\n",
    "from sklearn.svm import SVC\n",
    "from xgboost import XGBClassifier"
   ]
  },
  {
   "cell_type": "code",
   "execution_count": 92,
   "metadata": {},
   "outputs": [],
   "source": [
    "#!pip install xgboost"
   ]
  },
  {
   "cell_type": "code",
   "execution_count": 135,
   "metadata": {},
   "outputs": [
    {
     "name": "stdout",
     "output_type": "stream",
     "text": [
      "Accuracy is : 65.58237145855193\n"
     ]
    }
   ],
   "source": [
    "# LogisticRegression\n",
    "logreg = LogisticRegression()\n",
    "logreg.fit(X_train,y_train)\n",
    "\n",
    "y_pred_test = logreg.predict(X_test)\n",
    "\n",
    "# Accuracy score\n",
    "logreg_ac = accuracy_score(y_test, y_pred_test)*100\n",
    "print('Accuracy is :',logreg_ac)"
   ]
  },
  {
   "cell_type": "code",
   "execution_count": 136,
   "metadata": {},
   "outputs": [],
   "source": [
    "# Confusion matrix\n",
    "def print_confusion_matrix_recruit(y_actual, y_pred, modelName):\n",
    "    cnf_matrix = confusion_matrix(y_actual, y_pred)\n",
    "    cnf_mat_df = pd.DataFrame(cnf_matrix)\n",
    "    cnf_mat_df.index = ['Actual recruit','Actual not_recruit']\n",
    "    cnf_mat_df.columns = ['Predicted recruit','Predicted not_recruit']\n",
    "    print(\"Confusion matrix for %s model\" %modelName)\n",
    "    print(cnf_mat_df)"
   ]
  },
  {
   "cell_type": "code",
   "execution_count": 137,
   "metadata": {},
   "outputs": [
    {
     "name": "stdout",
     "output_type": "stream",
     "text": [
      "Confusion matrix for Logistic Regression model\n",
      "                    Predicted recruit  Predicted not_recruit\n",
      "Actual recruit                   1242                     14\n",
      "Actual not_recruit                642                      8\n"
     ]
    }
   ],
   "source": [
    "print_confusion_matrix_recruit(y_test, y_pred_test, \"Logistic Regression\")"
   ]
  },
  {
   "cell_type": "code",
   "execution_count": 138,
   "metadata": {},
   "outputs": [
    {
     "data": {
      "image/png": "[encoded data removed]",
      "text/plain": [
       "<Figure size 432x288 with 1 Axes>"
      ]
     },
     "metadata": {
      "needs_background": "light"
     },
     "output_type": "display_data"
    }
   ],
   "source": [
    "probs = logreg.predict_proba(X_test)\n",
    "preds = probs[:,1]\n",
    "fpr, tpr, threshold = metrics.roc_curve(y_test, preds)\n",
    "roc_auc = metrics.auc(fpr, tpr)\n",
    "plt.title('Receiver Operating Characteristic')\n",
    "plt.plot(fpr, tpr, 'b', label = 'AUC = %0.2f' % roc_auc)\n",
    "plt.legend(loc = 'lower right')\n",
    "plt.plot([0, 1], [0, 1],'r--')\n",
    "plt.xlim([0, 1])\n",
    "plt.ylim([0, 1])\n",
    "plt.ylabel('True Positive Rate')\n",
    "plt.xlabel('False Positive Rate')\n",
    "plt.show()"
   ]
  },
  {
   "cell_type": "code",
   "execution_count": 139,
   "metadata": {},
   "outputs": [
    {
     "name": "stdout",
     "output_type": "stream",
     "text": [
      "              precision    recall  f1-score   support\n",
      "\n",
      "         0.0       0.66      0.99      0.79      1256\n",
      "         1.0       0.36      0.01      0.02       650\n",
      "\n",
      "    accuracy                           0.66      1906\n",
      "   macro avg       0.51      0.50      0.41      1906\n",
      "weighted avg       0.56      0.66      0.53      1906\n",
      "\n"
     ]
    }
   ],
   "source": [
    "print(metrics.classification_report(y_test,y_pred_test))"
   ]
  },
  {
   "cell_type": "code",
   "execution_count": 140,
   "metadata": {},
   "outputs": [
    {
     "name": "stdout",
     "output_type": "stream",
     "text": [
      "Accuracy: 62.17208814270724\n",
      "Confusion matrix for Decision Tree model\n",
      "                    Predicted recruit  Predicted not_recruit\n",
      "Actual recruit                   1014                    242\n",
      "Actual not_recruit                479                    171\n"
     ]
    }
   ],
   "source": [
    "# Decision Tree Clasifiers\n",
    "dtmodel = tree.DecisionTreeClassifier(random_state = 123)\n",
    "dtmodel.fit(X_train, y_train)\n",
    "\n",
    "y_pred_test1 = dtmodel.predict(X_test)\n",
    "\n",
    "DecisionT_Accuracy = accuracy_score(y_test,y_pred_test1)*100\n",
    "print('Accuracy:', DecisionT_Accuracy)\n",
    "\n",
    "print_confusion_matrix_recruit(y_test, y_pred_test1, \"Decision Tree\")"
   ]
  },
  {
   "cell_type": "code",
   "execution_count": 141,
   "metadata": {},
   "outputs": [
    {
     "name": "stdout",
     "output_type": "stream",
     "text": [
      "              precision    recall  f1-score   support\n",
      "\n",
      "         0.0       0.68      0.81      0.74      1256\n",
      "         1.0       0.41      0.26      0.32       650\n",
      "\n",
      "    accuracy                           0.62      1906\n",
      "   macro avg       0.55      0.54      0.53      1906\n",
      "weighted avg       0.59      0.62      0.60      1906\n",
      "\n"
     ]
    }
   ],
   "source": [
    "print(metrics.classification_report(y_test,y_pred_test1))"
   ]
  },
  {
   "cell_type": "code",
   "execution_count": 142,
   "metadata": {},
   "outputs": [
    {
     "name": "stdout",
     "output_type": "stream",
     "text": [
      "Accuracy is : 61.90975865687304\n",
      "Confusion matrix for Random Forest Classifier model\n",
      "                    Predicted recruit  Predicted not_recruit\n",
      "Actual recruit                   1009                    247\n",
      "Actual not_recruit                479                    171\n"
     ]
    }
   ],
   "source": [
    "# Random Forest Classifier\n",
    "rfc = RandomForestClassifier(n_estimators=100,random_state=0)\n",
    "rfc.fit(X_train,y_train)\n",
    "\n",
    "y_pred_test2 = rfc.predict(X_test)\n",
    "\n",
    "rfc_ac = accuracy_score(y_test,y_pred_test2)*100\n",
    "print('Accuracy is :',rfc_ac)\n",
    "\n",
    "print_confusion_matrix_recruit(y_test, y_pred_test2, \"Random Forest Classifier\")"
   ]
  },
  {
   "cell_type": "code",
   "execution_count": 143,
   "metadata": {},
   "outputs": [
    {
     "name": "stdout",
     "output_type": "stream",
     "text": [
      "              precision    recall  f1-score   support\n",
      "\n",
      "         0.0       0.68      0.80      0.74      1256\n",
      "         1.0       0.41      0.26      0.32       650\n",
      "\n",
      "    accuracy                           0.62      1906\n",
      "   macro avg       0.54      0.53      0.53      1906\n",
      "weighted avg       0.59      0.62      0.59      1906\n",
      "\n"
     ]
    }
   ],
   "source": [
    "print(metrics.classification_report(y_test,y_pred_test2))"
   ]
  },
  {
   "cell_type": "code",
   "execution_count": 144,
   "metadata": {},
   "outputs": [
    {
     "name": "stdout",
     "output_type": "stream",
     "text": [
      "Accuracy is : 55.456453305351516\n",
      "Confusion matrix for KNN model\n",
      "                    Predicted recruit  Predicted not_recruit\n",
      "Actual recruit                    804                    452\n",
      "Actual not_recruit                397                    253\n"
     ]
    }
   ],
   "source": [
    "# KNN Model\n",
    "knn = KNeighborsClassifier(n_neighbors =1 )\n",
    "knn.fit(X_train, y_train)\n",
    "\n",
    "y_pred_test3 = knn.predict(X_test)\n",
    "\n",
    "knn_ac = accuracy_score(y_test,y_pred_test3)*100\n",
    "print('Accuracy is :',knn_ac)\n",
    "\n",
    "print_confusion_matrix_recruit(y_test, y_pred_test3, \"KNN\")"
   ]
  },
  {
   "cell_type": "code",
   "execution_count": 145,
   "metadata": {},
   "outputs": [
    {
     "name": "stdout",
     "output_type": "stream",
     "text": [
      "              precision    recall  f1-score   support\n",
      "\n",
      "         0.0       0.67      0.64      0.65      1256\n",
      "         1.0       0.36      0.39      0.37       650\n",
      "\n",
      "    accuracy                           0.55      1906\n",
      "   macro avg       0.51      0.51      0.51      1906\n",
      "weighted avg       0.56      0.55      0.56      1906\n",
      "\n"
     ]
    }
   ],
   "source": [
    "print(metrics.classification_report(y_test,y_pred_test3))"
   ]
  },
  {
   "cell_type": "code",
   "execution_count": 146,
   "metadata": {},
   "outputs": [
    {
     "name": "stdout",
     "output_type": "stream",
     "text": [
      "Accuracy is : 34.83735571878279\n",
      "Confusion matrix for Naive Bayes Classifier model\n",
      "                    Predicted recruit  Predicted not_recruit\n",
      "Actual recruit                     15                   1241\n",
      "Actual not_recruit                  1                    649\n"
     ]
    }
   ],
   "source": [
    "# Naive Bayes classifier\n",
    "nb = GaussianNB()\n",
    "nb.fit(X_train,y_train)\n",
    "\n",
    "y_pred_test4 = nb.predict(X_test)\n",
    "\n",
    "nb_ac = accuracy_score(y_test,y_pred_test4)*100\n",
    "print('Accuracy is :',nb_ac)\n",
    "\n",
    "print_confusion_matrix_recruit(y_test, y_pred_test4, \"Naive Bayes Classifier\")"
   ]
  },
  {
   "cell_type": "code",
   "execution_count": 147,
   "metadata": {},
   "outputs": [
    {
     "name": "stdout",
     "output_type": "stream",
     "text": [
      "              precision    recall  f1-score   support\n",
      "\n",
      "         0.0       0.94      0.01      0.02      1256\n",
      "         1.0       0.34      1.00      0.51       650\n",
      "\n",
      "    accuracy                           0.35      1906\n",
      "   macro avg       0.64      0.51      0.27      1906\n",
      "weighted avg       0.73      0.35      0.19      1906\n",
      "\n"
     ]
    }
   ],
   "source": [
    "print(metrics.classification_report(y_test,y_pred_test4))"
   ]
  },
  {
   "cell_type": "code",
   "execution_count": 165,
   "metadata": {},
   "outputs": [
    {
     "name": "stdout",
     "output_type": "stream",
     "text": [
      "Accuracy is : 65.89716684155299\n",
      "Confusion matrix for SVC model\n",
      "                    Predicted recruit  Predicted not_recruit\n",
      "Actual recruit                   1255                      1\n",
      "Actual not_recruit                649                      1\n"
     ]
    }
   ],
   "source": [
    "# SVC Model\n",
    "svc = SVC(random_state = 123)\n",
    "svc.fit(X_train, y_train)\n",
    "\n",
    "y_pred_test5 = svc.predict(X_test)\n",
    "\n",
    "svc_ac = accuracy_score(y_test,y_pred_test5)*100\n",
    "print('Accuracy is :',svc_ac)\n",
    "\n",
    "print_confusion_matrix_recruit(y_test, y_pred_test5, \"SVC\")"
   ]
  },
  {
   "cell_type": "code",
   "execution_count": 204,
   "metadata": {},
   "outputs": [
    {
     "name": "stdout",
     "output_type": "stream",
     "text": [
      "              precision    recall  f1-score   support\n",
      "\n",
      "         0.0       0.66      1.00      0.79      1256\n",
      "         1.0       0.50      0.00      0.00       650\n",
      "\n",
      "    accuracy                           0.66      1906\n",
      "   macro avg       0.58      0.50      0.40      1906\n",
      "weighted avg       0.60      0.66      0.52      1906\n",
      "\n"
     ]
    }
   ],
   "source": [
    "print(metrics.classification_report(y_test,y_pred_test5))"
   ]
  },
  {
   "cell_type": "code",
   "execution_count": 150,
   "metadata": {},
   "outputs": [
    {
     "name": "stdout",
     "output_type": "stream",
     "text": [
      "Accuracy is : 65.63483735571877\n",
      "Confusion matrix for Gradient Boosting model\n",
      "                    Predicted recruit  Predicted not_recruit\n",
      "Actual recruit                   1240                     16\n",
      "Actual not_recruit                639                     11\n"
     ]
    }
   ],
   "source": [
    "# Gradient Boosting Model\n",
    "gb_model= GradientBoostingClassifier(n_estimators=100,learning_rate=0.1,random_state=1)\n",
    "gb_model.fit(X_train, y_train)\n",
    "\n",
    "y_pred_test6 = gb_model.predict(X_test)\n",
    "\n",
    "gb_ac = accuracy_score(y_test,y_pred_test6)*100\n",
    "print('Accuracy is :',gb_ac)\n",
    "\n",
    "print_confusion_matrix_recruit(y_test, y_pred_test6, \"Gradient Boosting\")"
   ]
  },
  {
   "cell_type": "code",
   "execution_count": 151,
   "metadata": {},
   "outputs": [
    {
     "name": "stdout",
     "output_type": "stream",
     "text": [
      "              precision    recall  f1-score   support\n",
      "\n",
      "         0.0       0.66      0.99      0.79      1256\n",
      "         1.0       0.41      0.02      0.03       650\n",
      "\n",
      "    accuracy                           0.66      1906\n",
      "   macro avg       0.53      0.50      0.41      1906\n",
      "weighted avg       0.57      0.66      0.53      1906\n",
      "\n"
     ]
    }
   ],
   "source": [
    "print(metrics.classification_report(y_test,y_pred_test6))"
   ]
  },
  {
   "cell_type": "code",
   "execution_count": 206,
   "metadata": {},
   "outputs": [
    {
     "data": {
      "image/png": "[encoded data removed]",
      "text/plain": [
       "<Figure size 432x288 with 1 Axes>"
      ]
     },
     "metadata": {
      "needs_background": "light"
     },
     "output_type": "display_data"
    }
   ],
   "source": [
    "probs = gb_model.predict_proba(X_test)\n",
    "preds = probs[:,1]\n",
    "fpr, tpr, threshold = metrics.roc_curve(y_test, preds)\n",
    "roc_auc = metrics.auc(fpr, tpr)\n",
    "plt.title('Receiver Operating Characteristic')\n",
    "plt.plot(fpr, tpr, 'b', label = 'AUC = %0.2f' % roc_auc)\n",
    "plt.legend(loc = 'lower right')\n",
    "plt.plot([0, 1], [0, 1],'r--')\n",
    "plt.xlim([0, 1])\n",
    "plt.ylim([0, 1])\n",
    "plt.ylabel('True Positive Rate')\n",
    "plt.xlabel('False Positive Rate')\n",
    "plt.show()"
   ]
  },
  {
   "cell_type": "code",
   "execution_count": 152,
   "metadata": {},
   "outputs": [
    {
     "name": "stdout",
     "output_type": "stream",
     "text": [
      "Accuracy is : 65.42497376705143\n",
      "Confusion matrix for XGBoost model\n",
      "                    Predicted recruit  Predicted not_recruit\n",
      "Actual recruit                   1211                     45\n",
      "Actual not_recruit                614                     36\n"
     ]
    }
   ],
   "source": [
    "# XGBoost Model\n",
    "xgb_model=XGBClassifier(random_state=1,learning_rate=0.10)\n",
    "xgb_model.fit(X_train, y_train)\n",
    "\n",
    "y_pred_test7=xgb_model.predict(X_test)\n",
    "\n",
    "xgb_ac = accuracy_score(y_test,y_pred_test7)*100\n",
    "print('Accuracy is :',xgb_ac)\n",
    "\n",
    "print_confusion_matrix_recruit(y_test, y_pred_test7, \"XGBoost\")"
   ]
  },
  {
   "cell_type": "code",
   "execution_count": 153,
   "metadata": {},
   "outputs": [
    {
     "name": "stdout",
     "output_type": "stream",
     "text": [
      "              precision    recall  f1-score   support\n",
      "\n",
      "         0.0       0.66      0.96      0.79      1256\n",
      "         1.0       0.44      0.06      0.10       650\n",
      "\n",
      "    accuracy                           0.65      1906\n",
      "   macro avg       0.55      0.51      0.44      1906\n",
      "weighted avg       0.59      0.65      0.55      1906\n",
      "\n"
     ]
    }
   ],
   "source": [
    "print(metrics.classification_report(y_test,y_pred_test7))"
   ]
  },
  {
   "cell_type": "code",
   "execution_count": 170,
   "metadata": {},
   "outputs": [
    {
     "name": "stdout",
     "output_type": "stream",
     "text": [
      "{'max_depth': 10, 'min_samples_leaf': 6, 'n_estimators': 600}\n",
      "Accuracy is : 65.37250786988457\n"
     ]
    }
   ],
   "source": [
    "# Hypertuning Parameters\n",
    "rfc = RandomForestClassifier()\n",
    "grid_param = {'n_estimators': [300,400,500,600], 'max_depth':[10,15,20], \"min_samples_leaf\": [2,4,6]}\n",
    "rfc_grid = GridSearchCV(estimator=rfc, param_grid=grid_param, cv=5)\n",
    "rfc_grid.fit(X_train , y_train)\n",
    "y_pred_test_hp = rfc_grid.predict(X_test)\n",
    "\n",
    "print(rfc_grid.best_params_)\n",
    "\n",
    "selected_model = metrics.accuracy_score(y_test, y_pred_test_hp)*100\n",
    "print('Accuracy is :',selected_model)"
   ]
  },
  {
   "cell_type": "code",
   "execution_count": 171,
   "metadata": {},
   "outputs": [
    {
     "name": "stdout",
     "output_type": "stream",
     "text": [
      "RandomForestClassifier(max_depth=10, min_samples_leaf=6, n_estimators=600)\n"
     ]
    }
   ],
   "source": [
    "print(rfc_grid.best_estimator_)"
   ]
  },
  {
   "cell_type": "code",
   "execution_count": 202,
   "metadata": {},
   "outputs": [
    {
     "name": "stdout",
     "output_type": "stream",
     "text": [
      "0.5843471337579618\n"
     ]
    }
   ],
   "source": [
    "from sklearn.metrics import roc_auc_score\n",
    "prob_y_2 = rfc_grid.predict_proba(X_test)\n",
    "prob_y_2 = [p[1] for p in prob_y_2]\n",
    "print( roc_auc_score(y_test, prob_y_2) )"
   ]
  },
  {
   "cell_type": "code",
   "execution_count": 203,
   "metadata": {},
   "outputs": [
    {
     "data": {
      "image/png": "[encoded data removed]",
      "text/plain": [
       "<Figure size 432x288 with 1 Axes>"
      ]
     },
     "metadata": {
      "needs_background": "light"
     },
     "output_type": "display_data"
    }
   ],
   "source": [
    "probs = rfc_grid.predict_proba(X_test)\n",
    "preds = probs[:,1]\n",
    "fpr, tpr, threshold = metrics.roc_curve(y_test, preds)\n",
    "roc_auc = metrics.auc(fpr, tpr)\n",
    "plt.title('Receiver Operating Characteristic')\n",
    "plt.plot(fpr, tpr, 'b', label = 'AUC = %0.2f' % roc_auc)\n",
    "plt.legend(loc = 'lower right')\n",
    "plt.plot([0, 1], [0, 1],'r--')\n",
    "plt.xlim([0, 1])\n",
    "plt.ylim([0, 1])\n",
    "plt.ylabel('True Positive Rate')\n",
    "plt.xlabel('False Positive Rate')\n",
    "plt.show()"
   ]
  },
  {
   "cell_type": "code",
   "execution_count": null,
   "metadata": {},
   "outputs": [],
   "source": []
  },
  {
   "cell_type": "code",
   "execution_count": 207,
   "metadata": {},
   "outputs": [
    {
     "name": "stdout",
     "output_type": "stream",
     "text": [
      "{'max_depth': 5, 'min_samples_leaf': 6, 'n_estimators': 200}\n",
      "Accuracy is : 65.89716684155299\n"
     ]
    }
   ],
   "source": [
    "rfc1 = RandomForestClassifier()\n",
    "grid_param1 = {'n_estimators': [100, 200, 300, 400, 500, 600], 'max_depth':[5,10,15,20,25], \"min_samples_leaf\": [2,4,6,8]}\n",
    "rfc_grid1 = GridSearchCV(estimator=rfc1, param_grid=grid_param1, cv=5)\n",
    "rfc_grid1.fit(X_train , y_train)\n",
    "y_pred_test_hp = rfc_grid1.predict(X_test)\n",
    "\n",
    "print(rfc_grid1.best_params_)\n",
    "\n",
    "selected_model = metrics.accuracy_score(y_test, y_pred_test_hp)*100\n",
    "print('Accuracy is :',selected_model)"
   ]
  },
  {
   "cell_type": "code",
   "execution_count": 208,
   "metadata": {},
   "outputs": [
    {
     "name": "stdout",
     "output_type": "stream",
     "text": [
      "RandomForestClassifier(max_depth=5, min_samples_leaf=6, n_estimators=200)\n"
     ]
    }
   ],
   "source": [
    "print(rfc_grid1.best_estimator_)"
   ]
  },
  {
   "cell_type": "code",
   "execution_count": 209,
   "metadata": {},
   "outputs": [
    {
     "name": "stdout",
     "output_type": "stream",
     "text": [
      "0.5797152131308182\n"
     ]
    }
   ],
   "source": [
    "from sklearn.metrics import roc_auc_score\n",
    "prob_y_2 = rfc_grid1.predict_proba(X_test)\n",
    "prob_y_2 = [p[1] for p in prob_y_2]\n",
    "print( roc_auc_score(y_test, prob_y_2) )"
   ]
  },
  {
   "cell_type": "code",
   "execution_count": 210,
   "metadata": {},
   "outputs": [
    {
     "data": {
      "image/png": "[encoded data removed]",
      "text/plain": [
       "<Figure size 432x288 with 1 Axes>"
      ]
     },
     "metadata": {
      "needs_background": "light"
     },
     "output_type": "display_data"
    }
   ],
   "source": [
    "probs = rfc_grid.predict_proba(X_test)\n",
    "preds = probs[:,1]\n",
    "fpr, tpr, threshold = metrics.roc_curve(y_test, preds)\n",
    "roc_auc = metrics.auc(fpr, tpr)\n",
    "plt.title('Receiver Operating Characteristic')\n",
    "plt.plot(fpr, tpr, 'b', label = 'AUC = %0.2f' % roc_auc)\n",
    "plt.legend(loc = 'lower right')\n",
    "plt.plot([0, 1], [0, 1],'r--')\n",
    "plt.xlim([0, 1])\n",
    "plt.ylim([0, 1])\n",
    "plt.ylabel('True Positive Rate')\n",
    "plt.xlabel('False Positive Rate')\n",
    "plt.show()"
   ]
  },
  {
   "cell_type": "code",
   "execution_count": null,
   "metadata": {},
   "outputs": [],
   "source": []
  },
  {
   "cell_type": "markdown",
   "metadata": {},
   "source": [
    "# Create submission file"
   ]
  },
  {
   "cell_type": "code",
   "execution_count": 154,
   "metadata": {},
   "outputs": [
    {
     "data": {
      "text/html": [
       "<div>\n",
       "<style scoped>\n",
       "    .dataframe tbody tr th:only-of-type {\n",
       "        vertical-align: middle;\n",
       "    }\n",
       "\n",
       "    .dataframe tbody tr th {\n",
       "        vertical-align: top;\n",
       "    }\n",
       "\n",
       "    .dataframe thead th {\n",
       "        text-align: right;\n",
       "    }\n",
       "</style>\n",
       "<table border=\"1\" class=\"dataframe\">\n",
       "  <thead>\n",
       "    <tr style=\"text-align: right;\">\n",
       "      <th></th>\n",
       "      <th>ID</th>\n",
       "      <th>Business_Sourced</th>\n",
       "    </tr>\n",
       "  </thead>\n",
       "  <tbody>\n",
       "    <tr>\n",
       "      <th>0</th>\n",
       "      <td>FIN1009528</td>\n",
       "      <td>0.5</td>\n",
       "    </tr>\n",
       "    <tr>\n",
       "      <th>1</th>\n",
       "      <td>FIN1009529</td>\n",
       "      <td>0.5</td>\n",
       "    </tr>\n",
       "    <tr>\n",
       "      <th>2</th>\n",
       "      <td>FIN1009530</td>\n",
       "      <td>0.5</td>\n",
       "    </tr>\n",
       "    <tr>\n",
       "      <th>3</th>\n",
       "      <td>FIN1009531</td>\n",
       "      <td>0.5</td>\n",
       "    </tr>\n",
       "    <tr>\n",
       "      <th>4</th>\n",
       "      <td>FIN1009532</td>\n",
       "      <td>0.5</td>\n",
       "    </tr>\n",
       "  </tbody>\n",
       "</table>\n",
       "</div>"
      ],
      "text/plain": [
       "           ID  Business_Sourced\n",
       "0  FIN1009528               0.5\n",
       "1  FIN1009529               0.5\n",
       "2  FIN1009530               0.5\n",
       "3  FIN1009531               0.5\n",
       "4  FIN1009532               0.5"
      ]
     },
     "execution_count": 154,
     "metadata": {},
     "output_type": "execute_result"
    }
   ],
   "source": [
    "df_sub = pd.read_csv(\"sample_submission_V7OCXsi.csv\")\n",
    "df_sub.head()"
   ]
  },
  {
   "cell_type": "code",
   "execution_count": 156,
   "metadata": {},
   "outputs": [],
   "source": [
    "test.drop(['Business_Sourced'], axis=1, inplace=True)"
   ]
  },
  {
   "cell_type": "code",
   "execution_count": 213,
   "metadata": {},
   "outputs": [
    {
     "name": "stdout",
     "output_type": "stream",
     "text": [
      "(5045,)\n",
      "(5045,)\n"
     ]
    },
    {
     "data": {
      "text/html": [
       "<div>\n",
       "<style scoped>\n",
       "    .dataframe tbody tr th:only-of-type {\n",
       "        vertical-align: middle;\n",
       "    }\n",
       "\n",
       "    .dataframe tbody tr th {\n",
       "        vertical-align: top;\n",
       "    }\n",
       "\n",
       "    .dataframe thead th {\n",
       "        text-align: right;\n",
       "    }\n",
       "</style>\n",
       "<table border=\"1\" class=\"dataframe\">\n",
       "  <thead>\n",
       "    <tr style=\"text-align: right;\">\n",
       "      <th></th>\n",
       "      <th>ID</th>\n",
       "      <th>Business_Sourced</th>\n",
       "    </tr>\n",
       "  </thead>\n",
       "  <tbody>\n",
       "    <tr>\n",
       "      <th>0</th>\n",
       "      <td>FIN1009528</td>\n",
       "      <td>0.0</td>\n",
       "    </tr>\n",
       "    <tr>\n",
       "      <th>1</th>\n",
       "      <td>FIN1009529</td>\n",
       "      <td>0.0</td>\n",
       "    </tr>\n",
       "    <tr>\n",
       "      <th>2</th>\n",
       "      <td>FIN1009530</td>\n",
       "      <td>0.0</td>\n",
       "    </tr>\n",
       "    <tr>\n",
       "      <th>3</th>\n",
       "      <td>FIN1009531</td>\n",
       "      <td>0.0</td>\n",
       "    </tr>\n",
       "    <tr>\n",
       "      <th>4</th>\n",
       "      <td>FIN1009532</td>\n",
       "      <td>0.0</td>\n",
       "    </tr>\n",
       "  </tbody>\n",
       "</table>\n",
       "</div>"
      ],
      "text/plain": [
       "           ID  Business_Sourced\n",
       "0  FIN1009528               0.0\n",
       "1  FIN1009529               0.0\n",
       "2  FIN1009530               0.0\n",
       "3  FIN1009531               0.0\n",
       "4  FIN1009532               0.0"
      ]
     },
     "execution_count": 213,
     "metadata": {},
     "output_type": "execute_result"
    }
   ],
   "source": [
    "y_pred_f1 = rfc_grid.predict(test)\n",
    "print(y_pred_f1.shape)\n",
    "\n",
    "sub_id = df_sub['ID']\n",
    "print(sub_id.shape)\n",
    "\n",
    "y_prd = pd.DataFrame(y_pred_f1)\n",
    "submission_df = pd.concat([sub_id, y_prd], axis=1)\n",
    "submission_df.columns =['ID', 'Business_Sourced']\n",
    "submission_df.head()"
   ]
  },
  {
   "cell_type": "code",
   "execution_count": 214,
   "metadata": {},
   "outputs": [
    {
     "data": {
      "text/plain": [
       "array([0., 1.])"
      ]
     },
     "execution_count": 214,
     "metadata": {},
     "output_type": "execute_result"
    }
   ],
   "source": [
    "submission_df['Business_Sourced'].unique()"
   ]
  },
  {
   "cell_type": "code",
   "execution_count": 215,
   "metadata": {},
   "outputs": [],
   "source": [
    "submission_df.to_csv('submission_rfc_grid.csv', header=True, index=False)"
   ]
  },
  {
   "cell_type": "code",
   "execution_count": null,
   "metadata": {},
   "outputs": [],
   "source": []
  },
  {
   "cell_type": "code",
   "execution_count": null,
   "metadata": {},
   "outputs": [],
   "source": []
  },
  {
   "cell_type": "code",
   "execution_count": null,
   "metadata": {},
   "outputs": [],
   "source": []
  },
  {
   "cell_type": "code",
   "execution_count": null,
   "metadata": {},
   "outputs": [],
   "source": []
  },
  {
   "cell_type": "code",
   "execution_count": null,
   "metadata": {},
   "outputs": [],
   "source": []
  },
  {
   "cell_type": "code",
   "execution_count": null,
   "metadata": {},
   "outputs": [],
   "source": []
  }
 ],
 "metadata": {
  "kernelspec": {
   "display_name": "Python 3",
   "language": "python",
   "name": "python3"
  },
  "language_info": {
   "codemirror_mode": {
    "name": "ipython",
    "version": 3
   },
   "file_extension": ".py",
   "mimetype": "text/x-python",
   "name": "python",
   "nbconvert_exporter": "python",
   "pygments_lexer": "ipython3",
   "version": "3.7.9"
  }
 },
 "nbformat": 4,
 "nbformat_minor": 4
}
